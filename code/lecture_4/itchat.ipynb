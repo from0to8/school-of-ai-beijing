Skip to content
 
Search or jump to…

Pull requests
Issues
Marketplace
Explore
 
@wqw547243068 
3
14 7 wqw547243068/Python-learning
 Code  Issues 1  Pull requests 0  Projects 0  Wiki  Security  Insights  Settings
Python-learning
/
courses
/
chapter_8
/
itchat.ipynb
 

1
{
2
 "cells": [
3
  {
4
   "cell_type": "code",
5
   "execution_count": 1,
6
   "metadata": {},
7
   "outputs": [
8
    {
9
     "name": "stdout",
10
     "output_type": "stream",
11
     "text": [
12
      "█\r"
13
     ]
14
    },
15
    {
16
     "name": "stderr",
17
     "output_type": "stream",
18
     "text": [
19
      "Getting uuid of QR code.\n",
20
      "Downloading QR code.\n",
21
      "Please scan the QR code to log in.\n",
22
      "Please press confirm on your phone.\n",
23
      "Loading the contact, this may take a little while.\n",
24
      "Login successfully as 王奇文\n"
25
     ]
26
    },
27
    {
28
     "name": "stdout",
29
     "output_type": "stream",
30
     "text": [
31
      "男性好友：55.72%\n",
32
      "女性好友：38.93%\n",
33
      "其他：5.35%\n"
34
     ]
35
    }
36
   ],
37
   "source": [
38
    "import itchat\n",
39
    "# 先登录\n",
40
    "itchat.login() \n",
41
    "# 获取好友列表\n",
42
    "friends = itchat.get_friends(update=True)[0:]\n",
43
    "# 初始化计数器，有男有女，当然，有些人是不填的\n",
44
    "male = female = other = 0\n",
45
    "# 遍历这个列表，列表里第一位是自己，所以从\"自己\"之后开始计算\n",
46
    "# 1表示男性，2女性\n",
47
    "for i in friends[1:]:\n",
48
    "    sex = i[\"Sex\"]\n",
49
    "    if sex == 1:\n",
50
    "        male += 1\n",
@wqw547243068
Commit changes
Commit summary 
Update itchat.ipynb
Optional extended description
Add an optional extended description…
  Commit directly to the master branch.
  Create a new branch for this commit and start a pull request. Learn more about pull requests.
 
© 2019 GitHub, Inc.
Terms
Privacy
Security
Status
Help
Contact GitHub
Pricing
API
Training
Blog
About
